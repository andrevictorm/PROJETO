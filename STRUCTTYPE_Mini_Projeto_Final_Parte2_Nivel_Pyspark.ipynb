{
  "nbformat": 4,
  "nbformat_minor": 0,
  "metadata": {
    "colab": {
      "name": "STRUCTTYPE  Mini Projeto Final - Nivel Pyspark",
      "provenance": [],
      "mount_file_id": "1tppxbtXGzhIZqvQyuzKl6G5pF9HId91O",
      "authorship_tag": "ABX9TyN39v1V39JI/q4Z1HyXtZ7k",
      "include_colab_link": true
    },
    "kernelspec": {
      "name": "python3",
      "display_name": "Python 3"
    },
    "language_info": {
      "name": "python"
    }
  },
  "cells": [
    {
      "cell_type": "markdown",
      "metadata": {
        "id": "view-in-github",
        "colab_type": "text"
      },
      "source": [
        "<a href=\"https://colab.research.google.com/github/andrevictorm/PROJETOS/blob/main/STRUCTTYPE_Mini_Projeto_Final_Parte2_Nivel_Pyspark.ipynb\" target=\"_parent\"><img src=\"https://colab.research.google.com/assets/colab-badge.svg\" alt=\"Open In Colab\"/></a>"
      ]
    },
    {
      "cell_type": "code",
      "metadata": {
        "colab": {
          "base_uri": "https://localhost:8080/"
        },
        "id": "f3ecfXFeGWRc",
        "outputId": "8af0a30f-9775-41bf-97b4-19d8875b154a"
      },
      "source": [
        "pip install pyspark\n"
      ],
      "execution_count": null,
      "outputs": [
        {
          "output_type": "stream",
          "name": "stdout",
          "text": [
            "Requirement already satisfied: pyspark in /usr/local/lib/python3.7/dist-packages (3.2.0)\n",
            "Requirement already satisfied: py4j==0.10.9.2 in /usr/local/lib/python3.7/dist-packages (from pyspark) (0.10.9.2)\n"
          ]
        }
      ]
    },
    {
      "cell_type": "code",
      "metadata": {
        "id": "wtqrz3kKH4wJ"
      },
      "source": [
        "#Importando funcções padrão. Função Window também importada porque será usado mais na frente\n",
        "from pyspark.sql import SparkSession, Window\n",
        "import pyspark.sql.functions as F\n",
        "from pyspark.sql.types import StructType, StructField, StringType, IntegerType, DoubleType,BooleanType,DateType\n",
        "import pandas as pd\n"
      ],
      "execution_count": null,
      "outputs": []
    },
    {
      "cell_type": "code",
      "metadata": {
        "id": "tbfm6brFIk3w"
      },
      "source": [
        "#Montando estrutura\n",
        "spark = (\n",
        "    SparkSession.builder\n",
        "      .master('local')\n",
        "      .appName('dataframe_withcolumn')\n",
        "      .config('spark.ui.port', '4050')\n",
        "      .getOrCreate()\n",
        ")"
      ],
      "execution_count": null,
      "outputs": []
    },
    {
      "cell_type": "code",
      "metadata": {
        "colab": {
          "base_uri": "https://localhost:8080/"
        },
        "id": "un72riUlA71w",
        "outputId": "d9767dd3-a026-4259-ee38-bd8dbd08e64b"
      },
      "source": [
        "schema = StructType() \\\n",
        "      .add(\"ID\",IntegerType(),True) \\\n",
        "      .add(\"ano_nascimento\",IntegerType(),True) \\\n",
        "      .add(\"Educaçao\",StringType(),True) \\\n",
        "      .add(\"estado_civil\",StringType(),True) \\\n",
        "      .add(\"renda\",DoubleType(),True) \\\n",
        "      .add(\"crianca_casa\",IntegerType(),True) \\\n",
        "      .add(\"jovem_casa\",IntegerType(),True) \\\n",
        "      .add(\"Dt_cliente\",StringType(),True) \\\n",
        "      .add(\"recencia\",StringType(),True) \\\n",
        "      .add(\"MntVinho\",IntegerType(),True) \\\n",
        "      .add(\"MntFruta\",IntegerType(),True) \\\n",
        "      .add(\"MntCarne\",IntegerType(),True) \\\n",
        "      .add(\"MntPeixe\",IntegerType(),True) \\\n",
        "      .add(\"MntDoce\",IntegerType(),True) \\\n",
        "      .add(\"MntOuro\",IntegerType(),True) \\\n",
        "      .add(\"NumCompraPromocao\",IntegerType(),True) \\\n",
        "      .add(\"NumCompraWeb\",IntegerType(),True) \\\n",
        "      .add(\"NumCompraCatalogo\",IntegerType(),True) \\\n",
        "      .add(\"NumCompraLoja\",IntegerType(),True) \\\n",
        "      .add(\"NumVisitaWebMes\",IntegerType(),True) \\\n",
        "      .add(\"Z_CostContact\",IntegerType(),True) \\\n",
        "      .add(\"Z_Revenue\",IntegerType(),True) \\\n",
        "      .add(\"Response\",IntegerType(),True)\n",
        "\n",
        "df = (spark\n",
        "       .read\n",
        "       .format(\"csv\")\n",
        "       .option(\"header\", True)\n",
        "        .option(\"inferschema\", True)\n",
        "       .option(\"delimiter\", \",\")\n",
        "       .schema(schema)\n",
        "       .load(\"/content/drive/MyDrive/Colab Notebooks/markting_campeditado.csv\")\n",
        "       )\n",
        "\n",
        "df.printSchema()"
      ],
      "execution_count": null,
      "outputs": [
        {
          "output_type": "stream",
          "name": "stdout",
          "text": [
            "root\n",
            " |-- ID: integer (nullable = true)\n",
            " |-- ano_nascimento: integer (nullable = true)\n",
            " |-- Educaçao: string (nullable = true)\n",
            " |-- estado_civil: string (nullable = true)\n",
            " |-- renda: double (nullable = true)\n",
            " |-- crianca_casa: integer (nullable = true)\n",
            " |-- jovem_casa: integer (nullable = true)\n",
            " |-- Dt_cliente: string (nullable = true)\n",
            " |-- recencia: string (nullable = true)\n",
            " |-- MntVinho: integer (nullable = true)\n",
            " |-- MntFruta: integer (nullable = true)\n",
            " |-- MntCarne: integer (nullable = true)\n",
            " |-- MntPeixe: integer (nullable = true)\n",
            " |-- MntDoce: integer (nullable = true)\n",
            " |-- MntOuro: integer (nullable = true)\n",
            " |-- NumCompraPromocao: integer (nullable = true)\n",
            " |-- NumCompraWeb: integer (nullable = true)\n",
            " |-- NumCompraCatalogo: integer (nullable = true)\n",
            " |-- NumCompraLoja: integer (nullable = true)\n",
            " |-- NumVisitaWebMes: integer (nullable = true)\n",
            " |-- Z_CostContact: integer (nullable = true)\n",
            " |-- Z_Revenue: integer (nullable = true)\n",
            " |-- Response: integer (nullable = true)\n",
            "\n"
          ]
        }
      ]
    },
    {
      "cell_type": "code",
      "metadata": {
        "id": "RYj7Zy74Iqhg"
      },
      "source": [
        "#Alterando nomes de coluna\n",
        "df = df.withColumnRenamed(\"Z_Revenue\", \"Z_Receita\").withColumnRenamed(\"Z_CostContact\", \"Z_Custocontato\").withColumnRenamed(\"Response\", \"Resposta\").withColumnRenamed(\"Educaçao\", \"Formacao\")"
      ],
      "execution_count": null,
      "outputs": []
    },
    {
      "cell_type": "code",
      "metadata": {
        "colab": {
          "base_uri": "https://localhost:8080/"
        },
        "id": "1E6Je1xeVJf0",
        "outputId": "425c2d92-f1a1-4ef9-dd82-239111fc39b2"
      },
      "source": [
        "df.show()"
      ],
      "execution_count": null,
      "outputs": [
        {
          "output_type": "stream",
          "name": "stdout",
          "text": [
            "+----+--------------+---------+------------+-------+------------+----------+----------+--------+--------+--------+--------+--------+-------+-------+-----------------+------------+-----------------+-------------+---------------+--------------+---------+--------+\n",
            "|  ID|ano_nascimento| Educaçao|estado_civil|  renda|crianca_casa|jovem_casa|Dt_cliente|recencia|MntVinho|MntFruta|MntCarne|MntPeixe|MntDoce|MntOuro|NumCompraPromocao|NumCompraWeb|NumCompraCatalogo|NumCompraLoja|NumVisitaWebMes|Z_Custocontato|Z_Receita|Resposta|\n",
            "+----+--------------+---------+------------+-------+------------+----------+----------+--------+--------+--------+--------+--------+-------+-------+-----------------+------------+-----------------+-------------+---------------+--------------+---------+--------+\n",
            "|5524|          1957|Graduacao|    Solteiro|58138.0|           0|         0|04-09-2012|      58|     635|      88|     546|     172|     88|     88|                3|           8|               10|            4|              7|             3|       11|       1|\n",
            "|2174|          1954|Graduacao|    Solteiro|46344.0|           1|         1|08-03-2014|      38|      11|       1|       6|       2|      1|      6|                2|           1|                1|            2|              5|             3|       11|       0|\n",
            "|4141|          1965|Graduacao|     Juntado|71613.0|           0|         0|21-08-2013|      26|     426|      49|     127|     111|     21|     42|                1|           8|                2|           10|              4|             3|       11|       0|\n",
            "|6182|          1984|Graduacao|     Juntado|26646.0|           1|         0|10-02-2014|      26|      11|       4|      20|      10|      3|      5|                2|           2|                0|            4|              6|             3|       11|       0|\n",
            "|5324|          1981|      PhD|      Casado|58293.0|           1|         0|19-01-2014|      94|     173|      43|     118|      46|     27|     15|                5|           5|                3|            6|              5|             3|       11|       0|\n",
            "|7446|          1967|   Mestre|     Juntado|62513.0|           0|         1|09-09-2013|      16|     520|      42|      98|       0|     42|     14|                2|           6|                4|           10|              6|             3|       11|       0|\n",
            "| 965|          1971|Graduacao|  Divorciado|55635.0|           0|         1|13-11-2012|      34|     235|      65|     164|      50|     49|     27|                4|           7|                3|            7|              6|             3|       11|       0|\n",
            "|6177|          1985|      PhD|      Casado|33454.0|           1|         0|08-05-2013|      32|      76|      10|      56|       3|      1|     23|                2|           4|                0|            4|              8|             3|       11|       0|\n",
            "|4855|          1974|      PhD|     Juntado|30351.0|           1|         0|06-06-2013|      19|      14|       0|      24|       3|      3|      2|                1|           3|                0|            2|              9|             3|       11|       1|\n",
            "|5899|          1950|      PhD|     Juntado| 5648.0|           1|         1|13-03-2014|      68|      28|       0|       6|       1|      1|     13|                1|           1|                0|            0|             20|             3|       11|       0|\n",
            "|1994|          1983|Graduacao|      Casado|   null|           1|         0|15-11-2013|      11|       5|       5|       6|       0|      2|      1|                1|           1|                0|            2|              7|             3|       11|       0|\n",
            "| 387|          1976|   Basico|      Casado| 7500.0|           0|         0|13-11-2012|      59|       6|      16|      11|      11|      1|     16|                1|           2|                0|            3|              8|             3|       11|       0|\n",
            "|2125|          1959|Graduacao|  Divorciado|63033.0|           0|         0|15-11-2013|      82|     194|      61|     480|     225|    112|     30|                1|           3|                4|            8|              2|             3|       11|       0|\n",
            "|8180|          1952|   Mestre|  Divorciado|59354.0|           1|         1|15-11-2013|      53|     233|       2|      53|       3|      5|     14|                3|           6|                1|            5|              6|             3|       11|       0|\n",
            "|2569|          1987|Graduacao|      Casado|17323.0|           0|         0|10-10-2012|      38|       3|      14|      17|       6|      1|      5|                1|           1|                0|            3|              8|             3|       11|       0|\n",
            "|2114|          1946|      PhD|    Solteiro|82800.0|           0|         0|24-11-2012|      23|    1006|      22|     115|      59|     68|     45|                1|           7|                6|           12|              3|             3|       11|       1|\n",
            "|9736|          1980|Graduacao|      Casado|41850.0|           1|         1|24-12-2012|      51|      53|       5|      19|       2|     13|      4|                3|           3|                0|            3|              8|             3|       11|       0|\n",
            "|4939|          1946|Graduacao|     Juntado|37760.0|           0|         0|31-08-2012|      20|      84|       5|      38|     150|     12|     28|                2|           4|                1|            6|              7|             3|       11|       0|\n",
            "|6565|          1949|   Mestre|      Casado|76995.0|           0|         1|28-03-2013|      91|    1012|      80|     498|       0|     16|    176|                2|          11|                4|            9|              5|             3|       11|       0|\n",
            "|2278|          1985|   2º ano|    Solteiro|33812.0|           1|         0|03-11-2012|      86|       4|      17|      19|      30|     24|     39|                2|           2|                1|            3|              6|             3|       11|       0|\n",
            "+----+--------------+---------+------------+-------+------------+----------+----------+--------+--------+--------+--------+--------+-------+-------+-----------------+------------+-----------------+-------------+---------------+--------------+---------+--------+\n",
            "only showing top 20 rows\n",
            "\n"
          ]
        }
      ]
    },
    {
      "cell_type": "code",
      "metadata": {
        "id": "TW253yNwWBfs"
      },
      "source": [
        "#Criando uma nova coluna que soma todos os valores de Mnt\n",
        "df = df.withColumn(\"Soma_Total_Mnt\", F.col(\"MntVinho\") + F.col(\"MntFruta\")+F.col(\"MntCarne\") + F.col(\"MntPeixe\")+F.col(\"MntDoce\") + F.col(\"MntOuro\"))"
      ],
      "execution_count": null,
      "outputs": []
    },
    {
      "cell_type": "code",
      "metadata": {
        "id": "_owh7NjOXL30"
      },
      "source": [
        "#Criando uma nova coluna que soma todos os valores de Compra realizada\n",
        "df = df.withColumn(\"Total_Compra_Realizada\", F.col(\"NumCompraPromocao\") + F.col(\"NumCompraCatalogo\")+F.col(\"NumCompraWeb\") + F.col(\"NumCompraLoja\"))"
      ],
      "execution_count": null,
      "outputs": []
    },
    {
      "cell_type": "code",
      "metadata": {
        "colab": {
          "base_uri": "https://localhost:8080/"
        },
        "id": "cMTp2rZQYdOU",
        "outputId": "6fd0133c-6e0b-4700-979a-b3425b0a5436"
      },
      "source": [
        "df.show()"
      ],
      "execution_count": null,
      "outputs": [
        {
          "output_type": "stream",
          "name": "stdout",
          "text": [
            "+----+--------------+---------+------------+-------+------------+----------+----------+--------+--------+--------+--------+--------+-------+-------+-----------------+------------+-----------------+-------------+---------------+--------------+---------+--------+--------------+----------------------+\n",
            "|  ID|ano_nascimento| Educaçao|estado_civil|  renda|crianca_casa|jovem_casa|Dt_cliente|recencia|MntVinho|MntFruta|MntCarne|MntPeixe|MntDoce|MntOuro|NumCompraPromocao|NumCompraWeb|NumCompraCatalogo|NumCompraLoja|NumVisitaWebMes|Z_Custocontato|Z_Receita|Resposta|Soma_Total_Mnt|Total_Compra_Realizada|\n",
            "+----+--------------+---------+------------+-------+------------+----------+----------+--------+--------+--------+--------+--------+-------+-------+-----------------+------------+-----------------+-------------+---------------+--------------+---------+--------+--------------+----------------------+\n",
            "|5524|          1957|Graduacao|    Solteiro|58138.0|           0|         0|04-09-2012|      58|     635|      88|     546|     172|     88|     88|                3|           8|               10|            4|              7|             3|       11|       1|          1617|                    25|\n",
            "|2174|          1954|Graduacao|    Solteiro|46344.0|           1|         1|08-03-2014|      38|      11|       1|       6|       2|      1|      6|                2|           1|                1|            2|              5|             3|       11|       0|            27|                     6|\n",
            "|4141|          1965|Graduacao|     Juntado|71613.0|           0|         0|21-08-2013|      26|     426|      49|     127|     111|     21|     42|                1|           8|                2|           10|              4|             3|       11|       0|           776|                    21|\n",
            "|6182|          1984|Graduacao|     Juntado|26646.0|           1|         0|10-02-2014|      26|      11|       4|      20|      10|      3|      5|                2|           2|                0|            4|              6|             3|       11|       0|            53|                     8|\n",
            "|5324|          1981|      PhD|      Casado|58293.0|           1|         0|19-01-2014|      94|     173|      43|     118|      46|     27|     15|                5|           5|                3|            6|              5|             3|       11|       0|           422|                    19|\n",
            "|7446|          1967|   Mestre|     Juntado|62513.0|           0|         1|09-09-2013|      16|     520|      42|      98|       0|     42|     14|                2|           6|                4|           10|              6|             3|       11|       0|           716|                    22|\n",
            "| 965|          1971|Graduacao|  Divorciado|55635.0|           0|         1|13-11-2012|      34|     235|      65|     164|      50|     49|     27|                4|           7|                3|            7|              6|             3|       11|       0|           590|                    21|\n",
            "|6177|          1985|      PhD|      Casado|33454.0|           1|         0|08-05-2013|      32|      76|      10|      56|       3|      1|     23|                2|           4|                0|            4|              8|             3|       11|       0|           169|                    10|\n",
            "|4855|          1974|      PhD|     Juntado|30351.0|           1|         0|06-06-2013|      19|      14|       0|      24|       3|      3|      2|                1|           3|                0|            2|              9|             3|       11|       1|            46|                     6|\n",
            "|5899|          1950|      PhD|     Juntado| 5648.0|           1|         1|13-03-2014|      68|      28|       0|       6|       1|      1|     13|                1|           1|                0|            0|             20|             3|       11|       0|            49|                     2|\n",
            "|1994|          1983|Graduacao|      Casado|   null|           1|         0|15-11-2013|      11|       5|       5|       6|       0|      2|      1|                1|           1|                0|            2|              7|             3|       11|       0|            19|                     4|\n",
            "| 387|          1976|   Basico|      Casado| 7500.0|           0|         0|13-11-2012|      59|       6|      16|      11|      11|      1|     16|                1|           2|                0|            3|              8|             3|       11|       0|            61|                     6|\n",
            "|2125|          1959|Graduacao|  Divorciado|63033.0|           0|         0|15-11-2013|      82|     194|      61|     480|     225|    112|     30|                1|           3|                4|            8|              2|             3|       11|       0|          1102|                    16|\n",
            "|8180|          1952|   Mestre|  Divorciado|59354.0|           1|         1|15-11-2013|      53|     233|       2|      53|       3|      5|     14|                3|           6|                1|            5|              6|             3|       11|       0|           310|                    15|\n",
            "|2569|          1987|Graduacao|      Casado|17323.0|           0|         0|10-10-2012|      38|       3|      14|      17|       6|      1|      5|                1|           1|                0|            3|              8|             3|       11|       0|            46|                     5|\n",
            "|2114|          1946|      PhD|    Solteiro|82800.0|           0|         0|24-11-2012|      23|    1006|      22|     115|      59|     68|     45|                1|           7|                6|           12|              3|             3|       11|       1|          1315|                    26|\n",
            "|9736|          1980|Graduacao|      Casado|41850.0|           1|         1|24-12-2012|      51|      53|       5|      19|       2|     13|      4|                3|           3|                0|            3|              8|             3|       11|       0|            96|                     9|\n",
            "|4939|          1946|Graduacao|     Juntado|37760.0|           0|         0|31-08-2012|      20|      84|       5|      38|     150|     12|     28|                2|           4|                1|            6|              7|             3|       11|       0|           317|                    13|\n",
            "|6565|          1949|   Mestre|      Casado|76995.0|           0|         1|28-03-2013|      91|    1012|      80|     498|       0|     16|    176|                2|          11|                4|            9|              5|             3|       11|       0|          1782|                    26|\n",
            "|2278|          1985|   2º ano|    Solteiro|33812.0|           1|         0|03-11-2012|      86|       4|      17|      19|      30|     24|     39|                2|           2|                1|            3|              6|             3|       11|       0|           133|                     8|\n",
            "+----+--------------+---------+------------+-------+------------+----------+----------+--------+--------+--------+--------+--------+-------+-------+-----------------+------------+-----------------+-------------+---------------+--------------+---------+--------+--------------+----------------------+\n",
            "only showing top 20 rows\n",
            "\n"
          ]
        }
      ]
    },
    {
      "cell_type": "code",
      "metadata": {
        "colab": {
          "base_uri": "https://localhost:8080/"
        },
        "id": "VYTCUeXGZybF",
        "outputId": "09c28f5c-b7eb-4283-f678-c2b533da9159"
      },
      "source": [
        "#Agrupando a soma total do Mnt dividada por nivel de escolaridade\n",
        "df.groupBy(F.col(\"Educaçao\")).sum(\"Soma_Total_Mnt\").show()"
      ],
      "execution_count": null,
      "outputs": [
        {
          "output_type": "stream",
          "name": "stdout",
          "text": [
            "+---------+-------------------+\n",
            "| Educaçao|sum(Soma_Total_Mnt)|\n",
            "+---------+-------------------+\n",
            "|Graduacao|             698626|\n",
            "|      PhD|             326791|\n",
            "|   Mestre|             226359|\n",
            "|   Basico|               4417|\n",
            "|   2º ano|             100795|\n",
            "+---------+-------------------+\n",
            "\n"
          ]
        }
      ]
    },
    {
      "cell_type": "code",
      "metadata": {
        "colab": {
          "base_uri": "https://localhost:8080/"
        },
        "id": "CBSJETRLbnuj",
        "outputId": "73ddc07d-f0f3-4ff5-b75c-152c0d264a6a"
      },
      "source": [
        "#Rank do cliente que teve o menor Mnt para o maior\n",
        "w0 = Window.partitionBy(F.col(\"Educaçao\")).orderBy(\"Soma_Total_Mnt\")\n",
        "df.withColumn(\"Rank_Total_Mnt\",F.dense_rank().over(w0)).select(\"ID\",\"Educaçao\",\"renda\",\"Dt_cliente\",\"MntVinho\",\"MntFruta\",\"MntCarne\",'MntPeixe',\"MntDoce\",'MntOuro',\"Soma_Total_Mnt\",'Rank_Total_Mnt').show()"
      ],
      "execution_count": null,
      "outputs": [
        {
          "output_type": "stream",
          "name": "stdout",
          "text": [
            "+-----+--------+-------+----------+--------+--------+--------+--------+-------+-------+--------------+--------------+\n",
            "|   ID|Educaçao|  renda|Dt_cliente|MntVinho|MntFruta|MntCarne|MntPeixe|MntDoce|MntOuro|Soma_Total_Mnt|Rank_Total_Mnt|\n",
            "+-----+--------+-------+----------+--------+--------+--------+--------+-------+-------+--------------+--------------+\n",
            "|10067|  2º ano|25176.0|10-08-2013|       4|       0|       4|       0|      0|      5|            13|             1|\n",
            "|10241|  2º ano|11448.0|15-12-2013|       0|       0|       0|       6|      2|      6|            14|             2|\n",
            "| 7264|  2º ano|52195.0|12-05-2014|      12|       0|       4|       0|      0|      1|            17|             3|\n",
            "|10401|  2º ano|26326.0|04-09-2013|       1|       0|       5|       0|      3|      9|            18|             4|\n",
            "| 9850|  2º ano|24884.0|29-11-2012|       3|       6|       7|       0|      0|      3|            19|             5|\n",
            "| 4345|  2º ano|   null|12-01-2014|       5|       1|       9|       2|      0|      4|            21|             6|\n",
            "|11004|  2º ano|60182.0|17-05-2014|       8|       0|       5|       7|      0|      2|            22|             7|\n",
            "|  577|  2º ano|26907.0|20-08-2013|       9|       1|       7|       0|      3|      2|            22|             7|\n",
            "| 8702|  2º ano|26907.0|20-08-2013|       9|       1|       7|       0|      3|      2|            22|             7|\n",
            "| 2166|  2º ano|46779.0|12-07-2013|      12|       1|       3|       0|      0|      7|            23|             8|\n",
            "| 2217|  2º ano|37284.0|29-03-2013|      11|       1|       2|       2|      1|      6|            23|             8|\n",
            "| 4102|  2º ano|37284.0|29-03-2013|      11|       1|       2|       2|      1|      6|            23|             8|\n",
            "| 1890|  2º ano|42033.0|19-09-2012|      11|       1|       4|       2|      0|      7|            25|             9|\n",
            "| 5680|  2º ano|35684.0|22-04-2014|      10|       4|       7|       0|      6|      3|            30|            10|\n",
            "|10390|  2º ano|26887.0|10-02-2013|       6|       7|       4|       3|      4|      6|            30|            10|\n",
            "| 2518|  2º ano|20491.0|25-01-2013|       5|       4|       5|       4|      2|     10|            30|            10|\n",
            "|10398|  2º ano|24336.0|27-08-2012|       1|       6|       2|       8|      2|     12|            31|            11|\n",
            "| 2874|  2º ano|35388.0|07-03-2013|       6|       4|       7|       4|      3|      8|            32|            12|\n",
            "| 3102|  2º ano|19414.0|16-10-2013|       2|       3|      12|       3|      5|      7|            32|            12|\n",
            "|10708|  2º ano|36975.0|28-12-2013|      10|       6|      11|       0|      4|      2|            33|            13|\n",
            "+-----+--------+-------+----------+--------+--------+--------+--------+-------+-------+--------------+--------------+\n",
            "only showing top 20 rows\n",
            "\n"
          ]
        }
      ]
    },
    {
      "cell_type": "code",
      "metadata": {
        "colab": {
          "base_uri": "https://localhost:8080/"
        },
        "id": "WloG5BwIaUcT",
        "outputId": "79414f26-7cae-41f7-c77d-faea8b8f9214"
      },
      "source": [
        "#Agrupando a soma total de compras dividada por nivel de escolaridade\n",
        "df.groupBy(F.col(\"Educaçao\")).sum(\"Total_Compra_Realizada\").show()"
      ],
      "execution_count": null,
      "outputs": [
        {
          "output_type": "stream",
          "name": "stdout",
          "text": [
            "+---------+---------------------------+\n",
            "| Educaçao|sum(Total_Compra_Realizada)|\n",
            "+---------+---------------------------+\n",
            "|Graduacao|                      16894|\n",
            "|      PhD|                       7693|\n",
            "|   Mestre|                       5523|\n",
            "|   Basico|                        379|\n",
            "|   2º ano|                       2802|\n",
            "+---------+---------------------------+\n",
            "\n"
          ]
        }
      ]
    },
    {
      "cell_type": "code",
      "metadata": {
        "colab": {
          "base_uri": "https://localhost:8080/"
        },
        "id": "zueqcirlkIbZ",
        "outputId": "5b4a1cd5-140d-46e5-cda0-f9aeb2a11269"
      },
      "source": [
        "#Agrupador por esolaridade, \n",
        "(df.groupBy(F.col(\"Educaçao\")).agg(\n",
        "            F.sum(\"NumCompraPromocao\").alias(\"Total_CompraPromocao\"),\n",
        "            F.sum(\"NumCompraWeb\").alias(\"Total_CompraWeb\"),\n",
        "            F.sum(\"NumCompraCatalogo\").alias(\"Total_CompraCatalogo\"),\n",
        "            F.sum(\"NumCompraLoja\").alias(\"Total_CompraLoja\")\n",
        "            ).show()\n",
        ")\n",
        "\n"
      ],
      "execution_count": null,
      "outputs": [
        {
          "output_type": "stream",
          "name": "stdout",
          "text": [
            "+---------+--------------------+---------------+--------------------+----------------+\n",
            "| Educaçao|Total_CompraPromocao|Total_CompraWeb|Total_CompraCatalogo|Total_CompraLoja|\n",
            "+---------+--------------------+---------------+--------------------+----------------+\n",
            "|Graduacao|                2603|           4649|                3072|            6570|\n",
            "|      PhD|                1154|           2150|                1443|            2946|\n",
            "|   Mestre|                 898|           1492|                 951|            2182|\n",
            "|   Basico|                  97|            102|                  26|             154|\n",
            "|   2º ano|                 456|            757|                 471|            1118|\n",
            "+---------+--------------------+---------------+--------------------+----------------+\n",
            "\n"
          ]
        }
      ]
    },
    {
      "cell_type": "code",
      "metadata": {
        "colab": {
          "base_uri": "https://localhost:8080/"
        },
        "id": "Yu1n4lt58gHR",
        "outputId": "46dae4d2-3f24-4de1-edbd-91f63fccc3e7"
      },
      "source": [
        "#Quantidade de pessoas por escolaridade\n",
        "df.groupBy(F.col(\"Educaçao\")).count().show()\n"
      ],
      "execution_count": null,
      "outputs": [
        {
          "output_type": "stream",
          "name": "stdout",
          "text": [
            "+---------+-----+\n",
            "| Educaçao|count|\n",
            "+---------+-----+\n",
            "|Graduacao| 1127|\n",
            "|      PhD|  486|\n",
            "|   Mestre|  370|\n",
            "|   Basico|   54|\n",
            "|   2º ano|  203|\n",
            "+---------+-----+\n",
            "\n"
          ]
        }
      ]
    },
    {
      "cell_type": "code",
      "metadata": {
        "colab": {
          "base_uri": "https://localhost:8080/"
        },
        "id": "sTULfnq5c9Xr",
        "outputId": "321199f4-4639-4e30-8836-2d19c243c766"
      },
      "source": [
        "#Rank do cliente que teve a menor qnt de Compra para o maior\n",
        "w1 = Window.partitionBy(F.col(\"Educaçao\")).orderBy(\"Total_Compra_Realizada\")\n",
        "df.withColumn(\"Rank_Total_Compra\",F.dense_rank().over(w1)).select(\"ID\",\"Educaçao\",\"renda\",\"Dt_cliente\",\"NumCompraPromocao\",\"NumCompraWeb\",\"NumCompraCatalogo\",'NumCompraLoja',\"Total_Compra_Realizada\",'Rank_Total_Compra').show()\n"
      ],
      "execution_count": null,
      "outputs": [
        {
          "output_type": "stream",
          "name": "stdout",
          "text": [
            "+-----+--------+-------+----------+-----------------+------------+-----------------+-------------+----------------------+-----------------+\n",
            "|   ID|Educaçao|  renda|Dt_cliente|NumCompraPromocao|NumCompraWeb|NumCompraCatalogo|NumCompraLoja|Total_Compra_Realizada|Rank_Total_Compra|\n",
            "+-----+--------+-------+----------+-----------------+------------+-----------------+-------------+----------------------+-----------------+\n",
            "| 8720|  2º ano|   null|12-08-2012|                0|           0|                0|            1|                     1|                1|\n",
            "|10401|  2º ano|26326.0|04-09-2013|                1|           0|                0|            3|                     4|                2|\n",
            "| 7264|  2º ano|52195.0|12-05-2014|                1|           1|                0|            2|                     4|                2|\n",
            "|11004|  2º ano|60182.0|17-05-2014|                1|           1|                0|            2|                     4|                2|\n",
            "| 2166|  2º ano|46779.0|12-07-2013|                1|           0|                1|            2|                     4|                2|\n",
            "| 9850|  2º ano|24884.0|29-11-2012|                1|           0|                0|            3|                     4|                2|\n",
            "| 4345|  2º ano|   null|12-01-2014|                1|           1|                0|            2|                     4|                2|\n",
            "| 2518|  2º ano|20491.0|25-01-2013|                1|           0|                1|            2|                     4|                2|\n",
            "| 2217|  2º ano|37284.0|29-03-2013|                1|           0|                0|            3|                     4|                2|\n",
            "|10398|  2º ano|24336.0|27-08-2012|                1|           1|                0|            2|                     4|                2|\n",
            "| 1890|  2º ano|42033.0|19-09-2012|                1|           1|                0|            2|                     4|                2|\n",
            "|10241|  2º ano|11448.0|15-12-2013|                1|           1|                0|            2|                     4|                2|\n",
            "| 4102|  2º ano|37284.0|29-03-2013|                1|           0|                0|            3|                     4|                2|\n",
            "|10067|  2º ano|25176.0|10-08-2013|                1|           1|                0|            2|                     4|                2|\n",
            "| 9262|  2º ano|32414.0|04-07-2013|                1|           1|                0|            3|                     5|                3|\n",
            "| 2874|  2º ano|35388.0|07-03-2013|                1|           1|                0|            3|                     5|                3|\n",
            "| 5680|  2º ano|35684.0|22-04-2014|                1|           1|                0|            3|                     5|                3|\n",
            "| 2106|  2º ano|20130.0|17-03-2014|                1|           1|                0|            3|                     5|                3|\n",
            "| 5081|  2º ano|47821.0|20-10-2013|                1|           1|                0|            3|                     5|                3|\n",
            "|10708|  2º ano|36975.0|28-12-2013|                1|           1|                0|            3|                     5|                3|\n",
            "+-----+--------+-------+----------+-----------------+------------+-----------------+-------------+----------------------+-----------------+\n",
            "only showing top 20 rows\n",
            "\n"
          ]
        }
      ]
    },
    {
      "cell_type": "code",
      "metadata": {
        "colab": {
          "base_uri": "https://localhost:8080/"
        },
        "id": "zNidRV2Ad8TC",
        "outputId": "4a27f95f-59d7-439a-bc6a-db0e78a8ddb4"
      },
      "source": [
        "#Calcular a media de quantidade de compra feita, media de Mnt\n",
        "\n",
        "(df.withColumn(\"row\",F.row_number().over(w0))\n",
        "  .withColumn(\"Media_Compra_Qnt\",F.avg(F.col(\"Total_Compra_Realizada\")).over(w0))\n",
        "  .withColumn(\"Media_Mnt_Total\",F.avg(F.col(\"Soma_Total_Mnt\")).over(w0))\n",
        "  .select(\"row\",\"ID\",\"Educaçao\",\"Media_Compra_Qnt\",\"Media_Mnt_Total\").show()\n",
        ")\n"
      ],
      "execution_count": null,
      "outputs": [
        {
          "output_type": "stream",
          "name": "stdout",
          "text": [
            "+---+-----+--------+------------------+------------------+\n",
            "|row|   ID|Educaçao|  Media_Compra_Qnt|   Media_Mnt_Total|\n",
            "+---+-----+--------+------------------+------------------+\n",
            "|  1|10067|  2º ano|               4.0|              13.0|\n",
            "|  2|10241|  2º ano|               4.0|              13.5|\n",
            "|  3| 7264|  2º ano|               4.0|14.666666666666666|\n",
            "|  4|10401|  2º ano|               4.0|              15.5|\n",
            "|  5| 9850|  2º ano|               4.0|              16.2|\n",
            "|  6| 4345|  2º ano|               4.0|              17.0|\n",
            "|  7|11004|  2º ano| 4.444444444444445|18.666666666666668|\n",
            "|  8|  577|  2º ano| 4.444444444444445|18.666666666666668|\n",
            "|  9| 8702|  2º ano| 4.444444444444445|18.666666666666668|\n",
            "| 10| 2166|  2º ano| 4.333333333333333|             19.75|\n",
            "| 11| 2217|  2º ano| 4.333333333333333|             19.75|\n",
            "| 12| 4102|  2º ano| 4.333333333333333|             19.75|\n",
            "| 13| 1890|  2º ano|4.3076923076923075|20.153846153846153|\n",
            "| 14| 5680|  2º ano|             4.375|              22.0|\n",
            "| 15|10390|  2º ano|             4.375|              22.0|\n",
            "| 16| 2518|  2º ano|             4.375|              22.0|\n",
            "| 17|10398|  2º ano| 4.352941176470588|22.529411764705884|\n",
            "| 18| 2874|  2º ano| 4.421052631578948|23.526315789473685|\n",
            "| 19| 3102|  2º ano| 4.421052631578948|23.526315789473685|\n",
            "| 20|10708|  2º ano|              4.45|              24.0|\n",
            "+---+-----+--------+------------------+------------------+\n",
            "only showing top 20 rows\n",
            "\n"
          ]
        }
      ]
    },
    {
      "cell_type": "code",
      "metadata": {
        "colab": {
          "base_uri": "https://localhost:8080/"
        },
        "id": "vD31HW8V29Kr",
        "outputId": "b7d567ab-459d-4566-ee68-58b0a4b072b2"
      },
      "source": [
        "#Filtragem de quem realizou mais de 20 compras e tem Mnt maior que 1500\n",
        "df.filter('Total_Compra_Realizada > 20 and Soma_Total_Mnt > 1500 ').show()\n"
      ],
      "execution_count": null,
      "outputs": [
        {
          "output_type": "stream",
          "name": "stdout",
          "text": [
            "+----+--------------+---------+------------+--------+------------+----------+----------+--------+--------+--------+--------+--------+-------+-------+-----------------+------------+-----------------+-------------+---------------+--------------+---------+--------+--------------+----------------------+\n",
            "|  ID|ano_nascimento| Educaçao|estado_civil|   renda|crianca_casa|jovem_casa|Dt_cliente|recencia|MntVinho|MntFruta|MntCarne|MntPeixe|MntDoce|MntOuro|NumCompraPromocao|NumCompraWeb|NumCompraCatalogo|NumCompraLoja|NumVisitaWebMes|Z_Custocontato|Z_Receita|Resposta|Soma_Total_Mnt|Total_Compra_Realizada|\n",
            "+----+--------------+---------+------------+--------+------------+----------+----------+--------+--------+--------+--------+--------+-------+-------+-----------------+------------+-----------------+-------------+---------------+--------------+---------+--------+--------------+----------------------+\n",
            "|5524|          1957|Graduacao|    Solteiro| 58138.0|           0|         0|04-09-2012|      58|     635|      88|     546|     172|     88|     88|                3|           8|               10|            4|              7|             3|       11|       1|          1617|                    25|\n",
            "|6565|          1949|   Mestre|      Casado| 76995.0|           0|         1|28-03-2013|      91|    1012|      80|     498|       0|     16|    176|                2|          11|                4|            9|              5|             3|       11|       0|          1782|                    26|\n",
            "|5376|          1979|Graduacao|      Casado|  2447.0|           1|         0|06-01-2013|      42|       1|       1|    1725|       1|      1|      1|               15|           0|               28|            0|              1|             3|       11|       0|          1730|                    43|\n",
            "|1966|          1965|      PhD|      Casado| 84618.0|           0|         0|22-11-2013|      96|     684|     100|     801|      21|     66|      0|                1|           6|                9|           10|              2|             3|       11|       0|          1672|                    26|\n",
            "|4114|          1964|   Mestre|      Casado| 79143.0|           0|         0|11-08-2012|       2|     650|      37|     780|      27|    167|     32|                1|           6|                9|           13|              3|             3|       11|       0|          1693|                    29|\n",
            "|2225|          1977|Graduacao|  Divorciado| 82582.0|           0|         0|07-06-2014|      54|     510|     120|     550|     156|     40|    241|                1|           4|                9|            7|              1|             3|       11|       1|          1617|                    21|\n",
            "|6260|          1955|   Mestre|     Juntado| 82384.0|           0|         0|19-11-2012|      55|     984|      51|     432|     180|    120|    190|                1|           3|               10|           13|              1|             3|       11|       1|          1957|                    27|\n",
            "|7503|          1976|Graduacao|    Solteiro| 75825.0|           0|         0|12-10-2012|      40|    1032|     105|     779|     137|    105|     51|                0|           5|                8|            9|              4|             3|       11|       1|          2209|                    22|\n",
            "| 821|          1992|   Mestre|    Solteiro| 92859.0|           0|         0|19-10-2012|      46|     962|      61|     921|      52|     61|     20|                1|           5|                4|           12|              2|             3|       11|       0|          2077|                    22|\n",
            "|9260|          1945|      PhD|      Casado| 70356.0|           0|         0|05-11-2012|      20|    1349|      16|     249|      43|     16|     33|                2|          10|                6|            9|              6|             3|       11|       0|          1706|                    27|\n",
            "|8475|          1973|      PhD|      Casado|157243.0|           0|         1|01-03-2014|      98|      20|       2|    1582|       1|      2|      1|               15|           0|               22|            0|              0|             3|       11|       0|          1608|                    37|\n",
            "|8717|          1975|      PhD|      Casado| 80427.0|           0|         1|12-09-2012|      56|    1149|      71|     449|      69|     71|     26|                1|          11|                8|            8|              5|             3|       11|       0|          1835|                    28|\n",
            "|6982|          1976|Graduacao|      Casado| 74068.0|           0|         0|19-03-2013|      14|     783|      30|     537|     140|     76|     15|                1|           4|               10|            9|              2|             3|       11|       0|          1581|                    24|\n",
            "| 380|          1954|Graduacao|  Divorciado| 64497.0|           0|         1|10-09-2012|      17|    1170|      48|     320|      42|     32|    192|                5|          11|                4|            9|              8|             3|       11|       1|          1804|                    29|\n",
            "|6274|          1948|   Mestre|      Casado| 83790.0|           0|         0|15-11-2013|      81|    1076|      16|     417|      42|     48|     16|                1|           8|               10|            6|              3|             3|       11|       0|          1615|                    25|\n",
            "| 313|          1968|Graduacao|       Viuvo| 73455.0|           0|         0|28-10-2013|      98|     901|      61|     757|     186|    163|     20|                1|           6|                5|           10|              3|             3|       11|       0|          2088|                    22|\n",
            "|9529|          1990|Graduacao|      Casado| 73687.0|           0|         0|28-11-2013|       8|     559|     153|     503|     218|     13|    181|                1|           3|                9|            9|              2|             3|       11|       1|          1627|                    22|\n",
            "|8932|          1969|   Mestre|     Juntado| 65176.0|           0|         1|29-10-2012|      57|     960|      28|     183|     220|     70|     70|                4|           9|                6|            6|              6|             3|       11|       0|          1531|                    25|\n",
            "|2437|          1989|Graduacao|      Casado|    null|           0|         0|03-06-2013|      69|     861|     138|     461|      60|     30|     61|                1|           6|                5|           12|              3|             3|       11|       0|          1611|                    24|\n",
            "|6320|          1976|   Mestre|    Solteiro| 70893.0|           0|         0|06-02-2013|      42|     768|      44|     561|      77|     44|     14|                1|           6|                6|           10|              3|             3|       11|       0|          1508|                    23|\n",
            "+----+--------------+---------+------------+--------+------------+----------+----------+--------+--------+--------+--------+--------+-------+-------+-----------------+------------+-----------------+-------------+---------------+--------------+---------+--------+--------------+----------------------+\n",
            "only showing top 20 rows\n",
            "\n"
          ]
        }
      ]
    },
    {
      "cell_type": "code",
      "metadata": {
        "colab": {
          "base_uri": "https://localhost:8080/"
        },
        "id": "uyQ_nf9G3sXq",
        "outputId": "bc0c700d-4442-482d-8a94-93ddd10da11f"
      },
      "source": [
        "#Pessoas maiores de 18 anos\n",
        "df.filter('(2021 - ano_nascimento) > 18').show()\n"
      ],
      "execution_count": null,
      "outputs": [
        {
          "output_type": "stream",
          "name": "stdout",
          "text": [
            "+----+--------------+---------+------------+-------+------------+----------+----------+--------+--------+--------+--------+--------+-------+-------+-----------------+------------+-----------------+-------------+---------------+--------------+---------+--------+--------------+----------------------+\n",
            "|  ID|ano_nascimento| Educaçao|estado_civil|  renda|crianca_casa|jovem_casa|Dt_cliente|recencia|MntVinho|MntFruta|MntCarne|MntPeixe|MntDoce|MntOuro|NumCompraPromocao|NumCompraWeb|NumCompraCatalogo|NumCompraLoja|NumVisitaWebMes|Z_Custocontato|Z_Receita|Resposta|Soma_Total_Mnt|Total_Compra_Realizada|\n",
            "+----+--------------+---------+------------+-------+------------+----------+----------+--------+--------+--------+--------+--------+-------+-------+-----------------+------------+-----------------+-------------+---------------+--------------+---------+--------+--------------+----------------------+\n",
            "|5524|          1957|Graduacao|    Solteiro|58138.0|           0|         0|04-09-2012|      58|     635|      88|     546|     172|     88|     88|                3|           8|               10|            4|              7|             3|       11|       1|          1617|                    25|\n",
            "|2174|          1954|Graduacao|    Solteiro|46344.0|           1|         1|08-03-2014|      38|      11|       1|       6|       2|      1|      6|                2|           1|                1|            2|              5|             3|       11|       0|            27|                     6|\n",
            "|4141|          1965|Graduacao|     Juntado|71613.0|           0|         0|21-08-2013|      26|     426|      49|     127|     111|     21|     42|                1|           8|                2|           10|              4|             3|       11|       0|           776|                    21|\n",
            "|6182|          1984|Graduacao|     Juntado|26646.0|           1|         0|10-02-2014|      26|      11|       4|      20|      10|      3|      5|                2|           2|                0|            4|              6|             3|       11|       0|            53|                     8|\n",
            "|5324|          1981|      PhD|      Casado|58293.0|           1|         0|19-01-2014|      94|     173|      43|     118|      46|     27|     15|                5|           5|                3|            6|              5|             3|       11|       0|           422|                    19|\n",
            "|7446|          1967|   Mestre|     Juntado|62513.0|           0|         1|09-09-2013|      16|     520|      42|      98|       0|     42|     14|                2|           6|                4|           10|              6|             3|       11|       0|           716|                    22|\n",
            "| 965|          1971|Graduacao|  Divorciado|55635.0|           0|         1|13-11-2012|      34|     235|      65|     164|      50|     49|     27|                4|           7|                3|            7|              6|             3|       11|       0|           590|                    21|\n",
            "|6177|          1985|      PhD|      Casado|33454.0|           1|         0|08-05-2013|      32|      76|      10|      56|       3|      1|     23|                2|           4|                0|            4|              8|             3|       11|       0|           169|                    10|\n",
            "|4855|          1974|      PhD|     Juntado|30351.0|           1|         0|06-06-2013|      19|      14|       0|      24|       3|      3|      2|                1|           3|                0|            2|              9|             3|       11|       1|            46|                     6|\n",
            "|5899|          1950|      PhD|     Juntado| 5648.0|           1|         1|13-03-2014|      68|      28|       0|       6|       1|      1|     13|                1|           1|                0|            0|             20|             3|       11|       0|            49|                     2|\n",
            "|1994|          1983|Graduacao|      Casado|   null|           1|         0|15-11-2013|      11|       5|       5|       6|       0|      2|      1|                1|           1|                0|            2|              7|             3|       11|       0|            19|                     4|\n",
            "| 387|          1976|   Basico|      Casado| 7500.0|           0|         0|13-11-2012|      59|       6|      16|      11|      11|      1|     16|                1|           2|                0|            3|              8|             3|       11|       0|            61|                     6|\n",
            "|2125|          1959|Graduacao|  Divorciado|63033.0|           0|         0|15-11-2013|      82|     194|      61|     480|     225|    112|     30|                1|           3|                4|            8|              2|             3|       11|       0|          1102|                    16|\n",
            "|8180|          1952|   Mestre|  Divorciado|59354.0|           1|         1|15-11-2013|      53|     233|       2|      53|       3|      5|     14|                3|           6|                1|            5|              6|             3|       11|       0|           310|                    15|\n",
            "|2569|          1987|Graduacao|      Casado|17323.0|           0|         0|10-10-2012|      38|       3|      14|      17|       6|      1|      5|                1|           1|                0|            3|              8|             3|       11|       0|            46|                     5|\n",
            "|2114|          1946|      PhD|    Solteiro|82800.0|           0|         0|24-11-2012|      23|    1006|      22|     115|      59|     68|     45|                1|           7|                6|           12|              3|             3|       11|       1|          1315|                    26|\n",
            "|9736|          1980|Graduacao|      Casado|41850.0|           1|         1|24-12-2012|      51|      53|       5|      19|       2|     13|      4|                3|           3|                0|            3|              8|             3|       11|       0|            96|                     9|\n",
            "|4939|          1946|Graduacao|     Juntado|37760.0|           0|         0|31-08-2012|      20|      84|       5|      38|     150|     12|     28|                2|           4|                1|            6|              7|             3|       11|       0|           317|                    13|\n",
            "|6565|          1949|   Mestre|      Casado|76995.0|           0|         1|28-03-2013|      91|    1012|      80|     498|       0|     16|    176|                2|          11|                4|            9|              5|             3|       11|       0|          1782|                    26|\n",
            "|2278|          1985|   2º ano|    Solteiro|33812.0|           1|         0|03-11-2012|      86|       4|      17|      19|      30|     24|     39|                2|           2|                1|            3|              6|             3|       11|       0|           133|                     8|\n",
            "+----+--------------+---------+------------+-------+------------+----------+----------+--------+--------+--------+--------+--------+-------+-------+-----------------+------------+-----------------+-------------+---------------+--------------+---------+--------+--------------+----------------------+\n",
            "only showing top 20 rows\n",
            "\n"
          ]
        }
      ]
    },
    {
      "cell_type": "code",
      "metadata": {
        "colab": {
          "base_uri": "https://localhost:8080/"
        },
        "id": "cmUu7Xm8gR3R",
        "outputId": "20b4c20a-27a6-43c9-89a6-574cf9f628d0"
      },
      "source": [
        "#Visualização atual\n",
        "df.show()"
      ],
      "execution_count": null,
      "outputs": [
        {
          "output_type": "stream",
          "name": "stdout",
          "text": [
            "+----+--------------+---------+------------+-------+------------+----------+----------+--------+--------+--------+--------+--------+-------+-------+-----------------+------------+-----------------+-------------+---------------+--------------+---------+--------+--------------+----------------------+\n",
            "|  ID|ano_nascimento| Educaçao|estado_civil|  renda|crianca_casa|jovem_casa|Dt_cliente|recencia|MntVinho|MntFruta|MntCarne|MntPeixe|MntDoce|MntOuro|NumCompraPromocao|NumCompraWeb|NumCompraCatalogo|NumCompraLoja|NumVisitaWebMes|Z_Custocontato|Z_Receita|Resposta|Soma_Total_Mnt|Total_Compra_Realizada|\n",
            "+----+--------------+---------+------------+-------+------------+----------+----------+--------+--------+--------+--------+--------+-------+-------+-----------------+------------+-----------------+-------------+---------------+--------------+---------+--------+--------------+----------------------+\n",
            "|5524|          1957|Graduacao|    Solteiro|58138.0|           0|         0|04-09-2012|      58|     635|      88|     546|     172|     88|     88|                3|           8|               10|            4|              7|             3|       11|       1|          1617|                    25|\n",
            "|2174|          1954|Graduacao|    Solteiro|46344.0|           1|         1|08-03-2014|      38|      11|       1|       6|       2|      1|      6|                2|           1|                1|            2|              5|             3|       11|       0|            27|                     6|\n",
            "|4141|          1965|Graduacao|     Juntado|71613.0|           0|         0|21-08-2013|      26|     426|      49|     127|     111|     21|     42|                1|           8|                2|           10|              4|             3|       11|       0|           776|                    21|\n",
            "|6182|          1984|Graduacao|     Juntado|26646.0|           1|         0|10-02-2014|      26|      11|       4|      20|      10|      3|      5|                2|           2|                0|            4|              6|             3|       11|       0|            53|                     8|\n",
            "|5324|          1981|      PhD|      Casado|58293.0|           1|         0|19-01-2014|      94|     173|      43|     118|      46|     27|     15|                5|           5|                3|            6|              5|             3|       11|       0|           422|                    19|\n",
            "|7446|          1967|   Mestre|     Juntado|62513.0|           0|         1|09-09-2013|      16|     520|      42|      98|       0|     42|     14|                2|           6|                4|           10|              6|             3|       11|       0|           716|                    22|\n",
            "| 965|          1971|Graduacao|  Divorciado|55635.0|           0|         1|13-11-2012|      34|     235|      65|     164|      50|     49|     27|                4|           7|                3|            7|              6|             3|       11|       0|           590|                    21|\n",
            "|6177|          1985|      PhD|      Casado|33454.0|           1|         0|08-05-2013|      32|      76|      10|      56|       3|      1|     23|                2|           4|                0|            4|              8|             3|       11|       0|           169|                    10|\n",
            "|4855|          1974|      PhD|     Juntado|30351.0|           1|         0|06-06-2013|      19|      14|       0|      24|       3|      3|      2|                1|           3|                0|            2|              9|             3|       11|       1|            46|                     6|\n",
            "|5899|          1950|      PhD|     Juntado| 5648.0|           1|         1|13-03-2014|      68|      28|       0|       6|       1|      1|     13|                1|           1|                0|            0|             20|             3|       11|       0|            49|                     2|\n",
            "|1994|          1983|Graduacao|      Casado|   null|           1|         0|15-11-2013|      11|       5|       5|       6|       0|      2|      1|                1|           1|                0|            2|              7|             3|       11|       0|            19|                     4|\n",
            "| 387|          1976|   Basico|      Casado| 7500.0|           0|         0|13-11-2012|      59|       6|      16|      11|      11|      1|     16|                1|           2|                0|            3|              8|             3|       11|       0|            61|                     6|\n",
            "|2125|          1959|Graduacao|  Divorciado|63033.0|           0|         0|15-11-2013|      82|     194|      61|     480|     225|    112|     30|                1|           3|                4|            8|              2|             3|       11|       0|          1102|                    16|\n",
            "|8180|          1952|   Mestre|  Divorciado|59354.0|           1|         1|15-11-2013|      53|     233|       2|      53|       3|      5|     14|                3|           6|                1|            5|              6|             3|       11|       0|           310|                    15|\n",
            "|2569|          1987|Graduacao|      Casado|17323.0|           0|         0|10-10-2012|      38|       3|      14|      17|       6|      1|      5|                1|           1|                0|            3|              8|             3|       11|       0|            46|                     5|\n",
            "|2114|          1946|      PhD|    Solteiro|82800.0|           0|         0|24-11-2012|      23|    1006|      22|     115|      59|     68|     45|                1|           7|                6|           12|              3|             3|       11|       1|          1315|                    26|\n",
            "|9736|          1980|Graduacao|      Casado|41850.0|           1|         1|24-12-2012|      51|      53|       5|      19|       2|     13|      4|                3|           3|                0|            3|              8|             3|       11|       0|            96|                     9|\n",
            "|4939|          1946|Graduacao|     Juntado|37760.0|           0|         0|31-08-2012|      20|      84|       5|      38|     150|     12|     28|                2|           4|                1|            6|              7|             3|       11|       0|           317|                    13|\n",
            "|6565|          1949|   Mestre|      Casado|76995.0|           0|         1|28-03-2013|      91|    1012|      80|     498|       0|     16|    176|                2|          11|                4|            9|              5|             3|       11|       0|          1782|                    26|\n",
            "|2278|          1985|   2º ano|    Solteiro|33812.0|           1|         0|03-11-2012|      86|       4|      17|      19|      30|     24|     39|                2|           2|                1|            3|              6|             3|       11|       0|           133|                     8|\n",
            "+----+--------------+---------+------------+-------+------------+----------+----------+--------+--------+--------+--------+--------+-------+-------+-----------------+------------+-----------------+-------------+---------------+--------------+---------+--------+--------------+----------------------+\n",
            "only showing top 20 rows\n",
            "\n"
          ]
        }
      ]
    },
    {
      "cell_type": "code",
      "metadata": {
        "id": "mg96A7Tw0GYT"
      },
      "source": [
        "#Salvando dataframe no Google Drive\n",
        "df.toPandas().to_csv('/content/drive/MyDrive/Colab Notebooks/markting_campedpyspark.csv', index = None, header=True)\n",
        "\n"
      ],
      "execution_count": null,
      "outputs": []
    }
  ]
}